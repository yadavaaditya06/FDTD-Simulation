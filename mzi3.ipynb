{
 "cells": [
  {
   "cell_type": "code",
   "execution_count": 37,
   "id": "1c53acdf-bdd0-4eef-92fa-b0a02f0df700",
   "metadata": {},
   "outputs": [],
   "source": [
    "import meep as mp"
   ]
  },
  {
   "cell_type": "code",
   "execution_count": 38,
   "id": "c268a514",
   "metadata": {},
   "outputs": [],
   "source": [
    "import numpy as np"
   ]
  },
  {
   "cell_type": "code",
   "execution_count": null,
   "id": "5183da6f-c341-4998-93fc-0b16d83205d1",
   "metadata": {},
   "outputs": [],
   "source": []
  },
  {
   "cell_type": "code",
   "execution_count": 39,
   "id": "4c4ecbfc",
   "metadata": {},
   "outputs": [],
   "source": [
    "resolution=5"
   ]
  },
  {
   "cell_type": "code",
   "execution_count": 40,
   "id": "73a12c5b-37e1-41a7-b943-6540f326f2b5",
   "metadata": {},
   "outputs": [],
   "source": [
    "w=1 #width of the waveguide\n",
    "l=10  #Coupler length\n",
    "s=0.21 #Separation between waveguides\n",
    "m=2; # number of parallel waveguides since n is refractive index of core\n",
    "# l from left and right difference between one mzi and another mzi below and 3l is the length of mzi, so total difference between two       \n",
    "# mzis of terminal waveguides is 5l; going below for starting point of another waveguides differs by 4l, 3l for mzi plus a difference\n",
    "e=0.027 #error between base  and height of peak;subject to slope of tanh function and coupling length(l)\n",
    "p=2 # Base to peak length subject to coefficients of product of tanh functions\n",
    "gap= s+w+2*p-2*e #difference in heights between boundaries of consecutive waveguides\n",
    "sl=2 #Controlling slope\n",
    "y_max=(m-1)*gap+w #maximal y_coordinate of computational domain\n",
    "x_max=(8*m-13)*l/2"
   ]
  },
  {
   "cell_type": "code",
   "execution_count": 41,
   "id": "a867da8e-bdc4-46dc-b57d-fe08baf3bf05",
   "metadata": {},
   "outputs": [],
   "source": [
    " cell = mp.Vector3(2*x_max+16,y_max+3,0)"
   ]
  },
  {
   "cell_type": "code",
   "execution_count": 42,
   "id": "d69924c8-31bd-4f96-bc6e-5b9a73aeaa23",
   "metadata": {},
   "outputs": [],
   "source": [
    "arr=[]"
   ]
  },
  {
   "cell_type": "code",
   "execution_count": 43,
   "id": "74382cd4-e597-4643-b300-95c267fc2e74",
   "metadata": {},
   "outputs": [],
   "source": [
    "arr.append([0.2])"
   ]
  },
  {
   "cell_type": "code",
   "execution_count": 44,
   "id": "edce0d98-dcbb-4d5c-9073-e223f5ea5740",
   "metadata": {},
   "outputs": [
    {
     "name": "stdout",
     "output_type": "stream",
     "text": [
      "0.2\n"
     ]
    }
   ],
   "source": [
    "print(arr[0][0])"
   ]
  },
  {
   "cell_type": "code",
   "execution_count": null,
   "id": "92ca5a78-d34c-4eea-a59b-d7c55ef252f3",
   "metadata": {},
   "outputs": [],
   "source": []
  },
  {
   "cell_type": "code",
   "execution_count": 45,
   "id": "cc4f36f0",
   "metadata": {},
   "outputs": [],
   "source": [
    "import numpy as np\n",
    "from scipy.ndimage import gaussian_filter\n",
    "import meep as mp  # Ensure you have the meep package installed\n",
    "\n",
    "\n",
    "dxy = 1 / resolution  # smoothing kernel radius\n",
    "Nxy = 5  # smoothing grid pixel density\n",
    "n = 3.4  # refractive index for the material, replace with the correct value\n",
    "\n",
    "def ring_resonator(pos):\n",
    "    # Define the ring resonator function here\n",
    "    # This function should return the index of refraction at the given position\n",
    "    # For example:\n",
    "    p=0\n",
    "    x=pos.x\n",
    "    y=pos.y\n",
    "    x_m=x_max\n",
    "    y_m=y_max\n",
    "\n",
    "    for i in range(0,m,1):\n",
    "        if(i==0):\n",
    "            y1=y_m/2-2*(m-1)\n",
    "            y2=y_m/2-w-2*(m-1)\n",
    "            for j in range(0,m-1,1):\n",
    "                \n",
    "                one=np.tanh((x+x_m)/sl)*np.tanh((x+x_m-l)/sl)+np.tanh((x+x_m-2*l)/sl)*np.tanh((x+x_m-3*l)/sl)\n",
    "                y1+=one\n",
    "                y2+=one\n",
    "                x_m=x_m-8*l\n",
    "                p+=+arr[i][j]+one*arr[i][j]\n",
    "            if(y2<y<y1):\n",
    "                p+=1\n",
    "                return n*p\n",
    "            else:\n",
    "                p=0\n",
    "                x_m=x_max\n",
    "        else:\n",
    "            y1=y_m/2+2\n",
    "            y2=y_m/2-w+2\n",
    "            for j in range(0,2*(m-i)-1,1):\n",
    "                #print(\"IN LOOP\")\n",
    "                one=np.tanh((x+x_m)/sl)*np.tanh((x+x_m-l)/sl)+np.tanh((x+x_m-2*l)/sl)*np.tanh((x+x_m-3*l)/sl)\n",
    "                zero=-np.tanh((x+x_m)/sl)*np.tanh((x+x_m-l)/sl)-np.tanh((x+x_m-2*l)/sl)*np.tanh((x+x_m-3*l)/sl)\n",
    "                if(j%2!=0):\n",
    "                    y1+=one\n",
    "                    y2+=one\n",
    "                    p+=+arr[i][j//2]+one*arr[i][j//2]\n",
    "                else:\n",
    "                    y1+=zero\n",
    "                    y2+=zero\n",
    "                    p+=-arr[i-1][j//2]+zero*arr[i-1][j//2]\n",
    "                x_m=x_m-4*l\n",
    "            if(y2<y<y1):\n",
    "                p+=1\n",
    "                return n*p\n",
    "            else:\n",
    "                p=0\n",
    "                x_m=x_max-4*i*l\n",
    "        y_m=y_m-2*gap\n",
    "    #print(\"Yes#\")\n",
    "    return 1\n",
    "                \n",
    "            \n",
    "        \n",
    "\n",
    "    \n",
    "    \n",
    "    \n",
    "        \n",
    "def smooth_ring_resonator(p):\n",
    "    cx = np.linspace(p.x - 0.5 * dxy, p.x + 0.5 * dxy, Nxy)\n",
    "    cy = np.linspace(p.y - 0.5 * dxy, p.y + 0.5 * dxy, Nxy)\n",
    "    n_local = np.zeros((Nxy, Nxy))\n",
    "    for i in range(Nxy):\n",
    "        for j in range(Nxy):\n",
    "            n_local[i, j] = ring_resonator(mp.Vector3(cx[i], cy[j]))\n",
    "    if np.sum(n_local) == Nxy**2:\n",
    "        return mp.air\n",
    "    elif np.sum(n_local) == n * Nxy**2:\n",
    "        return mp.Medium(index=n)\n",
    "    else:\n",
    "        return mp.Medium(index=np.mean(gaussian_filter(n_local, sigma=1, mode='nearest')))\n",
    "   \n",
    "\n",
    "\n",
    "sxy =2*x_max+16  # Define the size of the block in the xy-plane\n",
    "syx=y_max+3\n",
    "\n",
    "geometry = [mp.Block(center=mp.Vector3(),\n",
    "                     size=mp.Vector3(sxy, syx),\n",
    "                     material=smooth_ring_resonator)]\n",
    "\n",
    "# Continue with the rest of your Meep simulation setup\n"
   ]
  },
  {
   "cell_type": "code",
   "execution_count": null,
   "id": "0e2da66f",
   "metadata": {},
   "outputs": [],
   "source": []
  },
  {
   "cell_type": "code",
   "execution_count": 46,
   "id": "0f28f49e-a9e3-4962-aa07-7c972eb41fad",
   "metadata": {},
   "outputs": [],
   "source": [
    "rot_angle = np.radians(20)\n",
    "\n",
    "w = 1.0 # width of waveguide\n",
    "\n",
    "\n",
    "fsrc = 0.15 # frequency of eigenmode or constant-amplitude source\n",
    "bnum = 1    # band number of eigenmode\n",
    "\n",
    "kpoint = mp.Vector3(x=1).rotate(mp.Vector3(z=1), rot_angle)\n",
    "\n",
    "compute_flux = True # compute flux (True) or plot the field profile (False)\n",
    "\n",
    "eig_src = True # eigenmode (True) or constant-amplitude (False) source\n",
    "\n",
    "if eig_src:\n",
    "    sources = [mp.EigenModeSource(src=mp.GaussianSource(fsrc,fwidth=0.2*fsrc) if compute_flux else mp.ContinuousSource(fsrc),\n",
    "                                  center=mp.Vector3(-x_max-5,y_max/2-w/2-e),\n",
    "                                  size=mp.Vector3(y=3*w),\n",
    "                                  direction=mp.NO_DIRECTION,\n",
    "                                  eig_kpoint=kpoint,\n",
    "                                  eig_band=bnum,\n",
    "                                  eig_parity=mp.EVEN_Y+mp.ODD_Z if rot_angle == 0 else mp.ODD_Z,\n",
    "                                  eig_match_freq=True)]\n",
    "else:\n",
    "    sources = [mp.Source(src=mp.GaussianSource(fsrc,fwidth=0.2*fsrc) if compute_flux else mp.ContinuousSource(fsrc),\n",
    "                         center=mp.Vector3(-x_max-5,y_max/2-w/2-e),\n",
    "                         size=mp.Vector3(y=3*w),\n",
    "                         component=mp.Ez)]"
   ]
  },
  {
   "cell_type": "code",
   "execution_count": 47,
   "id": "51883262-769f-4919-8dea-74c9f2176beb",
   "metadata": {},
   "outputs": [],
   "source": [
    "#sources = [mp.Source(mp.ContinuousSource(frequency=0.15),\n",
    "                     #component=mp.Ez,\n",
    "                     #center=mp.Vector3(-x_max-5,y_max/2-w/2-e))]"
   ]
  },
  {
   "cell_type": "code",
   "execution_count": 48,
   "id": "b2f52c96-ac33-4e87-9582-88a31657fab1",
   "metadata": {},
   "outputs": [],
   "source": [
    "pml_layers = [mp.PML(1.0)]"
   ]
  },
  {
   "cell_type": "code",
   "execution_count": 49,
   "id": "ca199852-ee7b-4d4e-a512-ba9ea76a797a",
   "metadata": {},
   "outputs": [],
   "source": [
    "sim = mp.Simulation(cell_size=cell,\n",
    "                    boundary_layers=pml_layers,\n",
    "                    geometry=geometry,\n",
    "                    sources=sources,\n",
    "                    resolution=resolution)"
   ]
  },
  {
   "cell_type": "code",
   "execution_count": null,
   "id": "b20461b3-27c4-49c0-b93b-06343b292ec9",
   "metadata": {},
   "outputs": [],
   "source": []
  },
  {
   "cell_type": "code",
   "execution_count": 50,
   "id": "3bc7406d-6558-40c9-9eea-6a7d6d7dc593",
   "metadata": {},
   "outputs": [],
   "source": [
    "fcen=fsrc\n",
    "df=0\n",
    "nfreq = 1  # number of frequencies at which to compute flux\n",
    "\n",
    "# reflected flux\n",
    "refl_fr = mp.FluxRegion(center=mp.Vector3(-x_max,y_max/2-w/2-e), size=mp.Vector3(0,4*w,0))\n",
    "refl = sim.add_flux(fcen, df, nfreq, refl_fr)\n",
    "\n",
    "# transmitted flux\n",
    "tran_fr1 = mp.FluxRegion(center=mp.Vector3(+x_max-2*l,y_max/2-2+w/2+e), size=mp.Vector3(0,2*w,0))\n",
    "tran1 = sim.add_flux(fcen, df, nfreq, tran_fr1)\n",
    "\n",
    "# transmitted flux\n",
    "tran_fr2 = mp.FluxRegion(center=mp.Vector3(+x_max-2*l,-y_max/2+2-w/2-e), size=mp.Vector3(0,2*w,0))\n",
    "tran2 = sim.add_flux(fcen, df, nfreq, tran_fr2)\n",
    "\n",
    "# transmitted flux\n",
    "tran_fr11 = mp.FluxRegion(center=mp.Vector3(+x_max-l,y_max/2-2+w/2+e), size=mp.Vector3(0,2*w,0))\n",
    "tran11 = sim.add_flux(fcen, df, nfreq, tran_fr11)\n",
    "\n",
    "# transmitted flux\n",
    "tran_fr22 = mp.FluxRegion(center=mp.Vector3(+x_max-l,-y_max/2+2-w/2-e), size=mp.Vector3(0,2*w,0))\n",
    "tran22 = sim.add_flux(fcen, df, nfreq, tran_fr22)\n",
    "\n",
    "# transmitted flux\n",
    "tran_fr111 = mp.FluxRegion(center=mp.Vector3(+x_max,y_max/2-2+w/2+e), size=mp.Vector3(0,2*w,0))\n",
    "tran111 = sim.add_flux(fcen, df, nfreq, tran_fr111)\n",
    "\n",
    "# transmitted flux\n",
    "tran_fr222 = mp.FluxRegion(center=mp.Vector3(+x_max,-y_max/2+2-w/2-e), size=mp.Vector3(0,2*w,0))\n",
    "tran222 = sim.add_flux(fcen, df, nfreq, tran_fr222)"
   ]
  },
  {
   "cell_type": "code",
   "execution_count": null,
   "id": "9fce4a0c-2c01-49ea-91ea-f1ab61967f4a",
   "metadata": {},
   "outputs": [],
   "source": []
  },
  {
   "cell_type": "code",
   "execution_count": 51,
   "id": "c9cdd915-14a5-473a-a163-a2366b146bdf",
   "metadata": {},
   "outputs": [
    {
     "name": "stderr",
     "output_type": "stream",
     "text": [
      "Warning: grid volume is not an integer number of pixels; cell size will be rounded to nearest pixel.\n"
     ]
    },
    {
     "name": "stdout",
     "output_type": "stream",
     "text": [
      "-----------\n",
      "Initializing structure...\n",
      "time for choose_chunkdivision = 0.000256777 s\n",
      "Working in 2D dimensions.\n",
      "Computational cell is 46 x 9.2 x 0 with resolution 5\n",
      "     block, center = (0,0,0)\n",
      "          size (46,9.156,0)\n",
      "          axes (1,0,0), (0,1,0), (0,0,1)\n",
      "subpixel-averaging is 91.3112% done, 0.442972 s remaining\n",
      "subpixel-averaging is 91.3112% done, 0.442482 s remaining\n",
      "subpixel-averaging is 91.3112% done, 0.443368 s remaining\n",
      "time for set_epsilon = 21.9949 s\n",
      "-----------\n"
     ]
    },
    {
     "name": "stderr",
     "output_type": "stream",
     "text": [
      "Warning: grid volume is not an integer number of pixels; cell size will be rounded to nearest pixel.\n"
     ]
    },
    {
     "name": "stdout",
     "output_type": "stream",
     "text": [
      "MPB solved for frequency_1(0.939693,0.34202,0) = 0.204649 after 12 iters\n",
      "MPB solved for frequency_1(0.65032,0.236697,0) = 0.150103 after 9 iters\n",
      "MPB solved for frequency_1(0.649771,0.236497,0) = 0.15 after 5 iters\n",
      "MPB solved for frequency_1(0.649771,0.236497,0) = 0.15 after 1 iters\n"
     ]
    },
    {
     "data": {
      "application/vnd.jupyter.widget-view+json": {
       "model_id": "56003a5b2ad344bcb80421f6afd9a67d",
       "version_major": 2,
       "version_minor": 0
      },
      "text/plain": [
       "FloatProgress(value=0.0, description='0% done ', max=600.0)"
      ]
     },
     "metadata": {},
     "output_type": "display_data"
    },
    {
     "name": "stdout",
     "output_type": "stream",
     "text": [
      "creating output file \"./eps-000000.00.h5\"...\n",
      "creating output file \"./ez.h5\"...\n",
      "run 0 finished at t = 600.0 (6000 timesteps)\n"
     ]
    }
   ],
   "source": [
    "sim.run(mp.at_beginning(mp.output_epsilon),\n",
    "        mp.to_appended(\"ez\", mp.at_every(0.6, mp.output_efield_z)),\n",
    "        until=600)"
   ]
  },
  {
   "cell_type": "code",
   "execution_count": null,
   "id": "7676cf8a-1f4c-431d-9663-83d36bf3aa2c",
   "metadata": {},
   "outputs": [],
   "source": []
  },
  {
   "cell_type": "code",
   "execution_count": 52,
   "id": "2bae37d9-8f91-4535-93e2-86c03679bb6a",
   "metadata": {},
   "outputs": [],
   "source": [
    "incident_flux = mp.get_fluxes(refl)"
   ]
  },
  {
   "cell_type": "code",
   "execution_count": 53,
   "id": "e66e0dd4-edc9-46ce-9020-e61f01d79fb7",
   "metadata": {},
   "outputs": [],
   "source": [
    "output1=mp.get_fluxes(tran1)"
   ]
  },
  {
   "cell_type": "code",
   "execution_count": 54,
   "id": "50755505-7763-4474-afe9-acd7ec753ce1",
   "metadata": {},
   "outputs": [],
   "source": [
    "output11=mp.get_fluxes(tran11)"
   ]
  },
  {
   "cell_type": "code",
   "execution_count": 55,
   "id": "fe1d42a3-2108-4bc6-ab5d-915b21ebbe0b",
   "metadata": {},
   "outputs": [],
   "source": [
    "output111=mp.get_fluxes(tran111)"
   ]
  },
  {
   "cell_type": "code",
   "execution_count": 56,
   "id": "89d55d39-60d8-43ac-a57b-8109b2f26eb9",
   "metadata": {},
   "outputs": [],
   "source": [
    "output2=mp.get_fluxes(tran2)"
   ]
  },
  {
   "cell_type": "code",
   "execution_count": 57,
   "id": "c85fead4-3308-45bf-9b79-e134ee91cc99",
   "metadata": {},
   "outputs": [],
   "source": [
    "output22=mp.get_fluxes(tran22)"
   ]
  },
  {
   "cell_type": "code",
   "execution_count": 58,
   "id": "d2c1fd1f-7886-4c2a-aa5b-be87470c1300",
   "metadata": {},
   "outputs": [],
   "source": [
    "output222=mp.get_fluxes(tran222)"
   ]
  },
  {
   "cell_type": "code",
   "execution_count": 59,
   "id": "938ae331-c695-4870-8e99-b3f157068d2f",
   "metadata": {},
   "outputs": [
    {
     "name": "stdout",
     "output_type": "stream",
     "text": [
      "1.0\n"
     ]
    }
   ],
   "source": [
    "print(incident_flux[0]/incident_flux[0])"
   ]
  },
  {
   "cell_type": "code",
   "execution_count": 60,
   "id": "b467c5f1-21bb-4376-8821-ba7183b3e569",
   "metadata": {},
   "outputs": [
    {
     "name": "stdout",
     "output_type": "stream",
     "text": [
      "0.9267791732830897\n"
     ]
    }
   ],
   "source": [
    "print(output1[0]/incident_flux[0])"
   ]
  },
  {
   "cell_type": "code",
   "execution_count": 61,
   "id": "e640fbe3-0d9a-424c-87ac-fc48ed31815f",
   "metadata": {},
   "outputs": [
    {
     "name": "stdout",
     "output_type": "stream",
     "text": [
      "0.915045085124371\n"
     ]
    }
   ],
   "source": [
    "print(output11[0]/incident_flux[0])"
   ]
  },
  {
   "cell_type": "code",
   "execution_count": 62,
   "id": "02ad6063-3a0e-4d4a-93f5-248404de2646",
   "metadata": {},
   "outputs": [
    {
     "name": "stdout",
     "output_type": "stream",
     "text": [
      "0.9183567449790594\n"
     ]
    }
   ],
   "source": [
    "print(output111[0]/incident_flux[0])"
   ]
  },
  {
   "cell_type": "code",
   "execution_count": 63,
   "id": "fd900d6d-3f46-4b0a-879f-566d822eb553",
   "metadata": {},
   "outputs": [
    {
     "name": "stdout",
     "output_type": "stream",
     "text": [
      "0.03357067312521073\n"
     ]
    }
   ],
   "source": [
    "print(output2[0]/incident_flux[0])"
   ]
  },
  {
   "cell_type": "code",
   "execution_count": 64,
   "id": "7df3cc9b-4073-4ffd-8e5f-c652a1b40c7f",
   "metadata": {},
   "outputs": [
    {
     "name": "stdout",
     "output_type": "stream",
     "text": [
      "0.024243723664893763\n"
     ]
    }
   ],
   "source": [
    "print(output22[0]/incident_flux[0])"
   ]
  },
  {
   "cell_type": "code",
   "execution_count": 65,
   "id": "be3f2148-f755-43ce-a110-96d0a75a324d",
   "metadata": {},
   "outputs": [
    {
     "name": "stdout",
     "output_type": "stream",
     "text": [
      "0.014452000492211245\n"
     ]
    }
   ],
   "source": [
    "print(output222[0]/incident_flux[0])"
   ]
  },
  {
   "cell_type": "code",
   "execution_count": 66,
   "id": "adce9edb-8eb7-4ba7-917d-141d41fc455d",
   "metadata": {},
   "outputs": [],
   "source": [
    "import numpy as np\n",
    "import matplotlib.pyplot as plt"
   ]
  },
  {
   "cell_type": "code",
   "execution_count": 67,
   "id": "e3133f25",
   "metadata": {},
   "outputs": [
    {
     "data": {
      "image/png": "[encoded data removed]",
      "text/plain": [
       "<Figure size 640x480 with 1 Axes>"
      ]
     },
     "metadata": {},
     "output_type": "display_data"
    }
   ],
   "source": [
    "eps_data = sim.get_array(center=mp.Vector3(), size=cell, component=mp.Dielectric)\n",
    "plt.figure()\n",
    "plt.imshow(eps_data.transpose(), interpolation='spline36', cmap='binary')\n",
    "plt.axis('off')\n",
    "plt.show()\n"
   ]
  },
  {
   "cell_type": "code",
   "execution_count": 68,
   "id": "486c6f11",
   "metadata": {},
   "outputs": [
    {
     "data": {
      "image/png": "[encoded data removed]",
      "text/plain": [
       "<Figure size 640x480 with 1 Axes>"
      ]
     },
     "metadata": {},
     "output_type": "display_data"
    }
   ],
   "source": [
    "ez_data = sim.get_array(center=mp.Vector3(), size=cell, component=mp.Ez)\n",
    "plt.figure()\n",
    "plt.imshow(eps_data.transpose(), interpolation='spline36', cmap='binary')\n",
    "plt.imshow(ez_data.transpose(), interpolation='spline36', cmap='RdBu', alpha=0.9)\n",
    "plt.axis('off')\n",
    "plt.show()"
   ]
  },
  {
   "cell_type": "code",
   "execution_count": 69,
   "id": "daac3fa7",
   "metadata": {},
   "outputs": [
    {
     "name": "stdout",
     "output_type": "stream",
     "text": [
      "ez                       Dataset {230, 46, 1000/Inf}\n"
     ]
    }
   ],
   "source": [
    "!h5ls ez.h5"
   ]
  },
  {
   "cell_type": "code",
   "execution_count": 70,
   "id": "d6199894",
   "metadata": {},
   "outputs": [],
   "source": [
    "!h5topng -t 0:900 -R -Zc dkbluered -a yarg -A eps-000000.00.h5 ez.h5"
   ]
  },
  {
   "cell_type": "code",
   "execution_count": 71,
   "id": "08058ec9",
   "metadata": {},
   "outputs": [],
   "source": [
    "!convert ez.t*.png ez.gif"
   ]
  },
  {
   "cell_type": "code",
   "execution_count": 72,
   "id": "c9279232",
   "metadata": {},
   "outputs": [
    {
     "data": {
      "application/vnd.jupyter.widget-view+json": {
       "model_id": "5f93a79e897e41afb4428e15c87b696c",
       "version_major": 2,
       "version_minor": 0
      },
      "text/plain": [
       "FloatProgress(value=600.0, description='0% done ', max=800.0, min=600.0)"
      ]
     },
     "metadata": {},
     "output_type": "display_data"
    },
    {
     "name": "stdout",
     "output_type": "stream",
     "text": [
      "creating output file \"./eps-000600.00.h5\"...\n",
      "on time step 6000 (time=600), 0.0117764 s/step\n",
      "run 1 finished at t = 800.0 (8000 timesteps)\n"
     ]
    },
    {
     "data": {
      "image/png": "[encoded data removed]",
      "text/plain": [
       "<Figure size 640x480 with 1 Axes>"
      ]
     },
     "metadata": {},
     "output_type": "display_data"
    }
   ],
   "source": [
    "vals = []\n",
    "\n",
    "def get_slice(sim):\n",
    "    vals.append(sim.get_array(center=mp.Vector3(0,-3.5), size=mp.Vector3(16,0), component=mp.Ez))\n",
    "\n",
    "sim.run(mp.at_beginning(mp.output_epsilon),\n",
    "        mp.at_every(0.6, get_slice),\n",
    "        until=200)\n",
    "\n",
    "import matplotlib.pyplot as plt\n",
    "\n",
    "plt.figure()\n",
    "plt.imshow(vals, interpolation='spline36', cmap='RdBu')\n",
    "plt.axis('off')\n",
    "plt.show()"
   ]
  },
  {
   "cell_type": "code",
   "execution_count": null,
   "id": "3c2a21f5",
   "metadata": {},
   "outputs": [],
   "source": []
  },
  {
   "cell_type": "code",
   "execution_count": null,
   "id": "d781956d",
   "metadata": {},
   "outputs": [],
   "source": []
  },
  {
   "cell_type": "code",
   "execution_count": null,
   "id": "571f657d",
   "metadata": {},
   "outputs": [],
   "source": []
  }
 ],
 "metadata": {
  "kernelspec": {
   "display_name": "Python 3 (ipykernel)",
   "language": "python",
   "name": "python3"
  },
  "language_info": {
   "codemirror_mode": {
    "name": "ipython",
    "version": 3
   },
   "file_extension": ".py",
   "mimetype": "text/x-python",
   "name": "python",
   "nbconvert_exporter": "python",
   "pygments_lexer": "ipython3",
   "version": "3.11.7"
  }
 },
 "nbformat": 4,
 "nbformat_minor": 5
}
